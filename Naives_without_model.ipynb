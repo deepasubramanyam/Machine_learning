{
  "nbformat": 4,
  "nbformat_minor": 0,
  "metadata": {
    "colab": {
      "name": "1818112_ml_exp1.ipynb",
      "provenance": []
    },
    "kernelspec": {
      "name": "python3",
      "display_name": "Python 3"
    }
  },
  "cells": [
    {
      "cell_type": "markdown",
      "metadata": {
        "id": "N-ttdpnWr2GU"
      },
      "source": [
        " **1818112**"
      ]
    },
    {
      "cell_type": "code",
      "metadata": {
        "id": "jFoTEQL_luxh"
      },
      "source": [
        "import numpy as np\r\n",
        "import pandas as pd\r\n",
        "from sklearn.naive_bayes import GaussianNB\r\n",
        "from sklearn.preprocessing import LabelEncoder\r\n",
        "from sklearn.model_selection import train_test_split\r\n",
        "from sklearn.metrics import accuracy_score\r\n",
        "import matplotlib.pyplot as plt"
      ],
      "execution_count": null,
      "outputs": []
    },
    {
      "cell_type": "code",
      "metadata": {
        "colab": {
          "base_uri": "https://localhost:8080/",
          "height": 204
        },
        "id": "1qQa03INmRTE",
        "outputId": "7e4f712f-a32a-4014-8d3a-bca76d3cdf10"
      },
      "source": [
        "tennis = pd.read_csv('play_tennis.csv')\r\n",
        "tennis.drop('day',axis='columns',inplace=True)#permanent drop of day as it has no use to create model\r\n",
        "tennis.head()#printing first five rows"
      ],
      "execution_count": null,
      "outputs": [
        {
          "output_type": "execute_result",
          "data": {
            "text/html": [
              "<div>\n",
              "<style scoped>\n",
              "    .dataframe tbody tr th:only-of-type {\n",
              "        vertical-align: middle;\n",
              "    }\n",
              "\n",
              "    .dataframe tbody tr th {\n",
              "        vertical-align: top;\n",
              "    }\n",
              "\n",
              "    .dataframe thead th {\n",
              "        text-align: right;\n",
              "    }\n",
              "</style>\n",
              "<table border=\"1\" class=\"dataframe\">\n",
              "  <thead>\n",
              "    <tr style=\"text-align: right;\">\n",
              "      <th></th>\n",
              "      <th>outlook</th>\n",
              "      <th>temp</th>\n",
              "      <th>humidity</th>\n",
              "      <th>wind</th>\n",
              "      <th>play</th>\n",
              "    </tr>\n",
              "  </thead>\n",
              "  <tbody>\n",
              "    <tr>\n",
              "      <th>0</th>\n",
              "      <td>Sunny</td>\n",
              "      <td>Hot</td>\n",
              "      <td>High</td>\n",
              "      <td>Weak</td>\n",
              "      <td>No</td>\n",
              "    </tr>\n",
              "    <tr>\n",
              "      <th>1</th>\n",
              "      <td>Sunny</td>\n",
              "      <td>Hot</td>\n",
              "      <td>High</td>\n",
              "      <td>Strong</td>\n",
              "      <td>No</td>\n",
              "    </tr>\n",
              "    <tr>\n",
              "      <th>2</th>\n",
              "      <td>Overcast</td>\n",
              "      <td>Hot</td>\n",
              "      <td>High</td>\n",
              "      <td>Weak</td>\n",
              "      <td>Yes</td>\n",
              "    </tr>\n",
              "    <tr>\n",
              "      <th>3</th>\n",
              "      <td>Rain</td>\n",
              "      <td>Mild</td>\n",
              "      <td>High</td>\n",
              "      <td>Weak</td>\n",
              "      <td>Yes</td>\n",
              "    </tr>\n",
              "    <tr>\n",
              "      <th>4</th>\n",
              "      <td>Rain</td>\n",
              "      <td>Cool</td>\n",
              "      <td>Normal</td>\n",
              "      <td>Weak</td>\n",
              "      <td>Yes</td>\n",
              "    </tr>\n",
              "  </tbody>\n",
              "</table>\n",
              "</div>"
            ],
            "text/plain": [
              "    outlook  temp humidity    wind play\n",
              "0     Sunny   Hot     High    Weak   No\n",
              "1     Sunny   Hot     High  Strong   No\n",
              "2  Overcast   Hot     High    Weak  Yes\n",
              "3      Rain  Mild     High    Weak  Yes\n",
              "4      Rain  Cool   Normal    Weak  Yes"
            ]
          },
          "metadata": {
            "tags": []
          },
          "execution_count": 18
        }
      ]
    },
    {
      "cell_type": "code",
      "metadata": {
        "colab": {
          "base_uri": "https://localhost:8080/"
        },
        "id": "dwFPanwrmbR6",
        "outputId": "233d0c20-7867-44c4-a254-c5dc6e92eb53"
      },
      "source": [
        "#to know the range of dataset\r\n",
        "tennis.index"
      ],
      "execution_count": null,
      "outputs": [
        {
          "output_type": "execute_result",
          "data": {
            "text/plain": [
              "RangeIndex(start=0, stop=14, step=1)"
            ]
          },
          "metadata": {
            "tags": []
          },
          "execution_count": 19
        }
      ]
    },
    {
      "cell_type": "code",
      "metadata": {
        "colab": {
          "base_uri": "https://localhost:8080/",
          "height": 288
        },
        "id": "oCwVI3Q0mfwK",
        "outputId": "3f00b730-4c1f-432d-d2f3-f04762d7fc0f"
      },
      "source": [
        "play = tennis.play.value_counts()\r\n",
        "tennis.play.value_counts().plot.bar()\r\n",
        "#as per the given dataset,no.of playing tennis days is higher"
      ],
      "execution_count": null,
      "outputs": [
        {
          "output_type": "execute_result",
          "data": {
            "text/plain": [
              "<matplotlib.axes._subplots.AxesSubplot at 0x7efdc9cf9828>"
            ]
          },
          "metadata": {
            "tags": []
          },
          "execution_count": 20
        },
        {
          "output_type": "display_data",
          "data": {
            "image/png": "[encoded data removed]",
            "text/plain": [
              "<Figure size 432x288 with 1 Axes>"
            ]
          },
          "metadata": {
            "tags": [],
            "needs_background": "light"
          }
        }
      ]
    },
    {
      "cell_type": "code",
      "metadata": {
        "id": "wX0kj_XatWVR"
      },
      "source": [
        "#grouping columns with play\r\n",
        "outlook_count = tennis.groupby(['outlook', 'play']).size()\r\n",
        "temp_count = tennis.groupby(['temp', 'play']).size()\r\n",
        "humidity_count = tennis.groupby(['humidity', 'play']).size()\r\n",
        "windy_count = tennis.groupby(['wind', 'play']).size()"
      ],
      "execution_count": null,
      "outputs": []
    },
    {
      "cell_type": "code",
      "metadata": {
        "colab": {
          "base_uri": "https://localhost:8080/"
        },
        "id": "O4ggTUqammMj",
        "outputId": "d7fa44c6-66a8-403e-d00c-3cc912835c30"
      },
      "source": [
        "play"
      ],
      "execution_count": null,
      "outputs": [
        {
          "output_type": "execute_result",
          "data": {
            "text/plain": [
              "Yes    9\n",
              "No     5\n",
              "Name: play, dtype: int64"
            ]
          },
          "metadata": {
            "tags": []
          },
          "execution_count": 46
        }
      ]
    },
    {
      "cell_type": "code",
      "metadata": {
        "colab": {
          "base_uri": "https://localhost:8080/"
        },
        "id": "W1k-pjYhmnzj",
        "outputId": "1b3623b4-f0c0-4e2d-824a-2f7c2281fd0d"
      },
      "source": [
        "#Total probability of yes and no\r\n",
        "P_yes = 9/14\r\n",
        "P_no = 5/14\r\n",
        "print(P_yes)\r\n",
        "print(P_no)"
      ],
      "execution_count": null,
      "outputs": [
        {
          "output_type": "stream",
          "text": [
            "0.6428571428571429\n",
            "0.35714285714285715\n"
          ],
          "name": "stdout"
        }
      ]
    },
    {
      "cell_type": "code",
      "metadata": {
        "colab": {
          "base_uri": "https://localhost:8080/",
          "height": 173
        },
        "id": "mCt8XwPgmrrS",
        "outputId": "57c6802c-7946-4d99-a984-5a43f2b8d24f"
      },
      "source": [
        "pd.crosstab(tennis['outlook'],tennis['play'])"
      ],
      "execution_count": null,
      "outputs": [
        {
          "output_type": "execute_result",
          "data": {
            "text/html": [
              "<div>\n",
              "<style scoped>\n",
              "    .dataframe tbody tr th:only-of-type {\n",
              "        vertical-align: middle;\n",
              "    }\n",
              "\n",
              "    .dataframe tbody tr th {\n",
              "        vertical-align: top;\n",
              "    }\n",
              "\n",
              "    .dataframe thead th {\n",
              "        text-align: right;\n",
              "    }\n",
              "</style>\n",
              "<table border=\"1\" class=\"dataframe\">\n",
              "  <thead>\n",
              "    <tr style=\"text-align: right;\">\n",
              "      <th>play</th>\n",
              "      <th>No</th>\n",
              "      <th>Yes</th>\n",
              "    </tr>\n",
              "    <tr>\n",
              "      <th>outlook</th>\n",
              "      <th></th>\n",
              "      <th></th>\n",
              "    </tr>\n",
              "  </thead>\n",
              "  <tbody>\n",
              "    <tr>\n",
              "      <th>Overcast</th>\n",
              "      <td>0</td>\n",
              "      <td>4</td>\n",
              "    </tr>\n",
              "    <tr>\n",
              "      <th>Rain</th>\n",
              "      <td>2</td>\n",
              "      <td>3</td>\n",
              "    </tr>\n",
              "    <tr>\n",
              "      <th>Sunny</th>\n",
              "      <td>3</td>\n",
              "      <td>2</td>\n",
              "    </tr>\n",
              "  </tbody>\n",
              "</table>\n",
              "</div>"
            ],
            "text/plain": [
              "play      No  Yes\n",
              "outlook          \n",
              "Overcast   0    4\n",
              "Rain       2    3\n",
              "Sunny      3    2"
            ]
          },
          "metadata": {
            "tags": []
          },
          "execution_count": 49
        }
      ]
    },
    {
      "cell_type": "code",
      "metadata": {
        "id": "Oyh8RJ0TmtvC"
      },
      "source": [
        "p_over_yes = outlook_count['Overcast','Yes']\r\n",
        "p_over_no = 0\r\n",
        "p_rainy_yes = outlook_count['Rain','Yes'] \r\n",
        "p_rainy_no = outlook_count['Rain','No']\r\n",
        "p_sunny_yes = outlook_count['Sunny', 'Yes']\r\n",
        "p_sunny_no = outlook_count['Sunny', 'No']\r\n",
        "#probability for outlook\r\n",
        "p_over_y=p_over_yes/(p_rainy_yes+p_sunny_yes+p_over_yes)#probability for overcast play-yes\r\n",
        "p_over_n=p_over_no/(p_rainy_no+p_sunny_no+p_over_no)\r\n",
        "\r\n",
        "p_rain_y=p_rainy_yes/(p_rainy_yes+p_sunny_yes+p_over_yes)#probability for rainy play-yes\r\n",
        "p_rain_n=p_rainy_no/(p_rainy_no+p_sunny_no+p_over_no)\r\n",
        "\r\n",
        "p_sunny_y=p_sunny_yes/(p_rainy_yes+p_sunny_yes+p_over_yes)#probability for sunny play-yes\r\n",
        "p_sunny_n=p_sunny_no/(p_rainy_no+p_sunny_no+p_over_no)"
      ],
      "execution_count": null,
      "outputs": []
    },
    {
      "cell_type": "code",
      "metadata": {
        "colab": {
          "base_uri": "https://localhost:8080/",
          "height": 173
        },
        "id": "qGrNolIumxea",
        "outputId": "e881262f-365b-4dfd-a352-e0f2d1ba9466"
      },
      "source": [
        "pd.crosstab(tennis['temp'],tennis['play'])"
      ],
      "execution_count": null,
      "outputs": [
        {
          "output_type": "execute_result",
          "data": {
            "text/html": [
              "<div>\n",
              "<style scoped>\n",
              "    .dataframe tbody tr th:only-of-type {\n",
              "        vertical-align: middle;\n",
              "    }\n",
              "\n",
              "    .dataframe tbody tr th {\n",
              "        vertical-align: top;\n",
              "    }\n",
              "\n",
              "    .dataframe thead th {\n",
              "        text-align: right;\n",
              "    }\n",
              "</style>\n",
              "<table border=\"1\" class=\"dataframe\">\n",
              "  <thead>\n",
              "    <tr style=\"text-align: right;\">\n",
              "      <th>play</th>\n",
              "      <th>No</th>\n",
              "      <th>Yes</th>\n",
              "    </tr>\n",
              "    <tr>\n",
              "      <th>temp</th>\n",
              "      <th></th>\n",
              "      <th></th>\n",
              "    </tr>\n",
              "  </thead>\n",
              "  <tbody>\n",
              "    <tr>\n",
              "      <th>Cool</th>\n",
              "      <td>1</td>\n",
              "      <td>3</td>\n",
              "    </tr>\n",
              "    <tr>\n",
              "      <th>Hot</th>\n",
              "      <td>2</td>\n",
              "      <td>2</td>\n",
              "    </tr>\n",
              "    <tr>\n",
              "      <th>Mild</th>\n",
              "      <td>2</td>\n",
              "      <td>4</td>\n",
              "    </tr>\n",
              "  </tbody>\n",
              "</table>\n",
              "</div>"
            ],
            "text/plain": [
              "play  No  Yes\n",
              "temp         \n",
              "Cool   1    3\n",
              "Hot    2    2\n",
              "Mild   2    4"
            ]
          },
          "metadata": {
            "tags": []
          },
          "execution_count": 51
        }
      ]
    },
    {
      "cell_type": "code",
      "metadata": {
        "id": "8mQIPIHym5lz"
      },
      "source": [
        "p_cool_yes = temp_count['Cool','Yes']\r\n",
        "p_cool_no =temp_count['Cool','No'] \r\n",
        "p_mild_yes = temp_count['Mild','Yes']\r\n",
        "p_mild_no =temp_count['Mild','No'] \r\n",
        "p_hot_yes = temp_count['Hot','Yes']\r\n",
        "p_hot_no =temp_count['Hot','No'] \r\n",
        "\r\n",
        "#probability for temp\r\n",
        "p_cool_y=p_cool_yes/(p_cool_yes+p_mild_yes+p_hot_yes)#probability for cool play-yes\r\n",
        "p_cool_n=p_cool_no/(p_cool_no+p_mild_no+p_hot_no)\r\n",
        "\r\n",
        "p_mild_y=p_mild_yes/(p_cool_yes+p_mild_yes+p_hot_yes)#probability for mild play-yes\r\n",
        "p_mild_n=p_mild_no/(p_cool_no+p_mild_no+p_hot_no)\r\n",
        "\r\n",
        "p_hot_y=p_hot_yes/(p_cool_yes+p_mild_yes+p_hot_yes)#probability for hot play-yes\r\n",
        "p_hot_n=p_hot_no/(p_cool_no+p_mild_no+p_hot_no)\r\n"
      ],
      "execution_count": null,
      "outputs": []
    },
    {
      "cell_type": "code",
      "metadata": {
        "colab": {
          "base_uri": "https://localhost:8080/",
          "height": 142
        },
        "id": "oeCaqeVlm8eL",
        "outputId": "14017458-5f42-4787-d4ae-97764b471caf"
      },
      "source": [
        "pd.crosstab(tennis['humidity'],tennis['play'])"
      ],
      "execution_count": null,
      "outputs": [
        {
          "output_type": "execute_result",
          "data": {
            "text/html": [
              "<div>\n",
              "<style scoped>\n",
              "    .dataframe tbody tr th:only-of-type {\n",
              "        vertical-align: middle;\n",
              "    }\n",
              "\n",
              "    .dataframe tbody tr th {\n",
              "        vertical-align: top;\n",
              "    }\n",
              "\n",
              "    .dataframe thead th {\n",
              "        text-align: right;\n",
              "    }\n",
              "</style>\n",
              "<table border=\"1\" class=\"dataframe\">\n",
              "  <thead>\n",
              "    <tr style=\"text-align: right;\">\n",
              "      <th>play</th>\n",
              "      <th>No</th>\n",
              "      <th>Yes</th>\n",
              "    </tr>\n",
              "    <tr>\n",
              "      <th>humidity</th>\n",
              "      <th></th>\n",
              "      <th></th>\n",
              "    </tr>\n",
              "  </thead>\n",
              "  <tbody>\n",
              "    <tr>\n",
              "      <th>High</th>\n",
              "      <td>4</td>\n",
              "      <td>3</td>\n",
              "    </tr>\n",
              "    <tr>\n",
              "      <th>Normal</th>\n",
              "      <td>1</td>\n",
              "      <td>6</td>\n",
              "    </tr>\n",
              "  </tbody>\n",
              "</table>\n",
              "</div>"
            ],
            "text/plain": [
              "play      No  Yes\n",
              "humidity         \n",
              "High       4    3\n",
              "Normal     1    6"
            ]
          },
          "metadata": {
            "tags": []
          },
          "execution_count": 52
        }
      ]
    },
    {
      "cell_type": "code",
      "metadata": {
        "id": "PhZfixFUnAmr"
      },
      "source": [
        "p_high_yes = humidity_count['High','Yes']\r\n",
        "p_high_no =humidity_count['High','No'] \r\n",
        "p_normal_yes = humidity_count['Normal','Yes']\r\n",
        "p_normal_no =humidity_count['Normal','No'] \r\n",
        "\r\n",
        "# Probability for humidity\r\n",
        "\r\n",
        "p_high_y=p_high_yes/(p_normal_yes+p_high_yes)#probability for high play-yes\r\n",
        "p_high_n=p_high_no/(p_normal_no+p_high_no)\r\n",
        "p_normal_y=p_normal_yes/(p_normal_yes+p_high_yes)#probability for normal play-yes\r\n",
        "p_normal_n=p_normal_no/(p_normal_no+p_high_no)"
      ],
      "execution_count": null,
      "outputs": []
    },
    {
      "cell_type": "code",
      "metadata": {
        "colab": {
          "base_uri": "https://localhost:8080/",
          "height": 142
        },
        "id": "Ly3QRWQenCu6",
        "outputId": "710ea476-7450-4b54-db43-9f82be2225e2"
      },
      "source": [
        "pd.crosstab(tennis['wind'],tennis['play'])"
      ],
      "execution_count": null,
      "outputs": [
        {
          "output_type": "execute_result",
          "data": {
            "text/html": [
              "<div>\n",
              "<style scoped>\n",
              "    .dataframe tbody tr th:only-of-type {\n",
              "        vertical-align: middle;\n",
              "    }\n",
              "\n",
              "    .dataframe tbody tr th {\n",
              "        vertical-align: top;\n",
              "    }\n",
              "\n",
              "    .dataframe thead th {\n",
              "        text-align: right;\n",
              "    }\n",
              "</style>\n",
              "<table border=\"1\" class=\"dataframe\">\n",
              "  <thead>\n",
              "    <tr style=\"text-align: right;\">\n",
              "      <th>play</th>\n",
              "      <th>No</th>\n",
              "      <th>Yes</th>\n",
              "    </tr>\n",
              "    <tr>\n",
              "      <th>wind</th>\n",
              "      <th></th>\n",
              "      <th></th>\n",
              "    </tr>\n",
              "  </thead>\n",
              "  <tbody>\n",
              "    <tr>\n",
              "      <th>Strong</th>\n",
              "      <td>3</td>\n",
              "      <td>3</td>\n",
              "    </tr>\n",
              "    <tr>\n",
              "      <th>Weak</th>\n",
              "      <td>2</td>\n",
              "      <td>6</td>\n",
              "    </tr>\n",
              "  </tbody>\n",
              "</table>\n",
              "</div>"
            ],
            "text/plain": [
              "play    No  Yes\n",
              "wind           \n",
              "Strong   3    3\n",
              "Weak     2    6"
            ]
          },
          "metadata": {
            "tags": []
          },
          "execution_count": 54
        }
      ]
    },
    {
      "cell_type": "code",
      "metadata": {
        "id": "T3mXJOMEnDub"
      },
      "source": [
        "\r\n",
        "p_strong_yes = windy_count['Strong','Yes']\r\n",
        "p_strong_no = windy_count['Strong','No']\r\n",
        "p_weak_yes = windy_count['Weak','Yes']\r\n",
        "p_weak_no = windy_count['Weak','No']\r\n",
        "\r\n",
        "# Probability for wind\r\n",
        "\r\n",
        "p_strong_y = p_strong_yes/(p_weak_yes+p_strong_yes)#probability for Strong play-yes\r\n",
        "p_strong_n = p_strong_no/(p_weak_no+p_strong_no)#probability for Strong play-no\r\n",
        "\r\n",
        "p_weak_y= p_weak_yes/(p_weak_yes+p_strong_yes)#probability for weak play-yes\r\n",
        "p_weak_n = p_weak_no/(p_weak_no+p_strong_no)#probability for weak play-no"
      ],
      "execution_count": null,
      "outputs": []
    },
    {
      "cell_type": "code",
      "metadata": {
        "colab": {
          "base_uri": "https://localhost:8080/"
        },
        "id": "GaOpvFZDnVoP",
        "outputId": "9e11a6ae-0cb4-4252-a830-0e0de73dd412"
      },
      "source": [
        "#x'=(Outlook=rain, Temperature=mild, Humidity=High, Wind=weak)\r\n",
        "\r\n",
        "# Probability of Yes for given x'\r\n",
        "Pyes = P_yes * p_rain_y * p_mild_y * p_high_y* p_weak_y\r\n",
        "print(\"The probability of playing tennis is\",Pyes)\r\n",
        "\r\n",
        "# Probability of No for given x'\r\n",
        "Pno = P_no * p_rain_n * p_mild_n * p_high_n * p_weak_n\r\n",
        "print(\"The probability of not playing tennis is\",Pno,\"\\n\")\r\n",
        "\r\n",
        "if Pno > Pyes:\r\n",
        "    print(\"The probability of not playing tennis is higher for the given condition x'\")\r\n",
        "else:\r\n",
        "    print(\"The probability of playing tennis is higher for the given condition x'\")"
      ],
      "execution_count": null,
      "outputs": [
        {
          "output_type": "stream",
          "text": [
            "The probability of playing tennis is 0.021164021164021163\n",
            "The probability of not playing tennis is 0.01828571428571429 \n",
            "\n",
            "The probability of playing tennis is higher for the given condition x'\n"
          ],
          "name": "stdout"
        }
      ]
    },
    {
      "cell_type": "code",
      "metadata": {
        "colab": {
          "base_uri": "https://localhost:8080/"
        },
        "id": "QEUNpBhwnX71",
        "outputId": "fc9838b7-483c-44a6-803e-c246e08fc070"
      },
      "source": [
        "#y'=(Outlook=Sunny, Temperature=Cool, Humidity=High, Wind=Strong)\r\n",
        "\r\n",
        "# Probability of Yes for given y'\r\n",
        "Pyes = P_yes * p_sunny_y * p_cool_y * p_high_y * p_strong_y\r\n",
        "print(\"The probability of playing tennis is\",Pyes)\r\n",
        "\r\n",
        "# Probability of No for given y'\r\n",
        "Pno = P_no * p_sunny_n * p_cool_n * p_high_n * p_strong_n\r\n",
        "print(\"The probability of not playing tennis is\",Pno,\"\\n\")\r\n",
        "\r\n",
        "if Pno > Pyes:\r\n",
        "    print(\"The probability of not playing tennis is higher for the given condition y'\")\r\n",
        "else:\r\n",
        "    print(\"The probability of playing tennis is higher for the given condition y'\")"
      ],
      "execution_count": null,
      "outputs": [
        {
          "output_type": "stream",
          "text": [
            "The probability of playing tennis is 0.005291005291005291\n",
            "The probability of not playing tennis is 0.02057142857142857 \n",
            "\n",
            "The probability of not playing tennis is higher for the given condition y'\n"
          ],
          "name": "stdout"
        }
      ]
    },
    {
      "cell_type": "markdown",
      "metadata": {
        "id": "O-QVbQwF7M-D"
      },
      "source": [
        "**Creation,training,analysis and prediction of model**"
      ]
    },
    {
      "cell_type": "code",
      "metadata": {
        "id": "c48I6Z6o0N6m"
      },
      "source": [
        "number = LabelEncoder()#A LabelEncoder converts a categorical data into a number ranging from 0 to n-1\r\n",
        "tennis['outlook'] = number.fit_transform(tennis['outlook'])\r\n",
        "tennis['temp'] = number.fit_transform(tennis['temp'])\r\n",
        "tennis['humidity'] = number.fit_transform(tennis['humidity'])\r\n",
        "tennis['wind'] = number.fit_transform(tennis['wind'])\r\n",
        "tennis['play'] = number.fit_transform(tennis['play'])"
      ],
      "execution_count": null,
      "outputs": []
    },
    {
      "cell_type": "code",
      "metadata": {
        "id": "qq3rjxPP1MS6"
      },
      "source": [
        "#training the model\r\n",
        "features = [\"outlook\", \"temp\", \"humidity\", \"wind\"]\r\n",
        "target = \"play\"\r\n"
      ],
      "execution_count": null,
      "outputs": []
    },
    {
      "cell_type": "code",
      "metadata": {
        "id": "xPx-bqdG1s6u"
      },
      "source": [
        "features_train, features_test, target_train, target_test = train_test_split(tennis[features],tennis[target],test_size = 0.33,random_state = 54)\r\n"
      ],
      "execution_count": null,
      "outputs": []
    },
    {
      "cell_type": "code",
      "metadata": {
        "colab": {
          "base_uri": "https://localhost:8080/"
        },
        "id": "-i_RXgdX2bH3",
        "outputId": "c269e832-62b8-4f08-c4b1-c966bf4e55fa"
      },
      "source": [
        "model = GaussianNB()\r\n",
        "model.fit(features_train, target_train)"
      ],
      "execution_count": null,
      "outputs": [
        {
          "output_type": "execute_result",
          "data": {
            "text/plain": [
              "GaussianNB(priors=None, var_smoothing=1e-09)"
            ]
          },
          "metadata": {
            "tags": []
          },
          "execution_count": 10
        }
      ]
    },
    {
      "cell_type": "code",
      "metadata": {
        "id": "Lk18aVX62iru",
        "colab": {
          "base_uri": "https://localhost:8080/"
        },
        "outputId": "1c34173c-9f4c-4564-9ac3-bc53e1fdbfd2"
      },
      "source": [
        "pred = model.predict(features_test)\n",
        "accuracy = accuracy_score(target_test, pred)\n",
        "print(accuracy)"
      ],
      "execution_count": null,
      "outputs": [
        {
          "output_type": "stream",
          "text": [
            "0.8\n"
          ],
          "name": "stdout"
        }
      ]
    },
    {
      "cell_type": "code",
      "metadata": {
        "colab": {
          "base_uri": "https://localhost:8080/"
        },
        "id": "8DtNA7LW2pWR",
        "outputId": "f63c34aa-abf2-4eb1-d664-d8cda876cfc8"
      },
      "source": [
        "print(model.predict([[1,2,0,1]]))#(Rain,Mild,High,Weak)\r\n",
        "#[1] means play-\"yes\" [0] means play-\"no\""
      ],
      "execution_count": null,
      "outputs": [
        {
          "output_type": "stream",
          "text": [
            "[1]\n"
          ],
          "name": "stdout"
        }
      ]
    }
  ]
}